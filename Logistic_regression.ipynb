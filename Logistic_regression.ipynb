{
  "nbformat": 4,
  "nbformat_minor": 0,
  "metadata": {
    "colab": {
      "provenance": []
    },
    "kernelspec": {
      "name": "python3",
      "display_name": "Python 3"
    },
    "language_info": {
      "name": "python"
    }
  },
  "cells": [
    {
      "cell_type": "markdown",
      "source": [
        "Q1. What is simple linear regression? Explain its purpose\n",
        " - Simple Linear Regression (SLR) is a statistical method that models the relationship between two continuous variables by fitting a straight line through the data.\n",
        " - Its purpose is to find the best-fitting straight line to understand, predict, and quantify the relationship between one independent variable (X) and one dependent variable (Y).\n",
        " - For example, it can be used to predict a student's test score (Y) based on the number of hours they studied (X)\n",
        "\n",
        "Q2. What are the key assumptions of simple Linear regression\n",
        " - The key assumptions of simple linear regression are linearity, meaning the relationship between the variables is a straight line; independence of errors, so the errors are not correlated; homoscedasticity, where the variance of the errors is constant; and normality of errors, meaning the errors are normally distributed\n",
        "\n",
        "Q3. Write the mathematical equation for a simple Linear regression model and explain each them\n",
        " - The mathematical equation for a simple linear regression model is (y=a+bx\\), where y is the dependent variable, x is the independent variable, a is the y-intercept, and 'b' is the slope of the line. The equation describes the linear relationship between two variables: the intercept a is the predicted value of y when x is zero, and the slope b is the average change in y for a one-unit increase in \\(x\\).\n",
        "\n",
        "Q4. Provide a real world example where simple Linear regression can be applied\n",
        " - A real-world example of simple linear regression is predicting a company's sales based on its advertising spending.\n",
        " - In this case, the advertising spend is the independent variable, and sales are the dependent variable. By analyzing historical data, a model can be built to predict future sales based on how much is spent on advertising, as seen in the analysis by IBM\n",
        "\n",
        "Q5. What is the method of least squares in Linear regression b\n",
        " - The method of least squares in linear regression is a statistical technique used to find the best-fitting straight line through a set of data points.\n",
        " - It works by minimizing the sum of the squares of the vertical distances (errors) between each data point and the line, a value called the sum of squared errors. The line with the smallest sum of squared errors is the one that best fits the data\n",
        "\n",
        "Q6. What is logistics regression? How does it differ from Linear regression\n",
        " - Logistics regression is used to estimate the dependent variable in case of a change in independent variables. For example, predict the price of houses. Whereas logistic regression is used to calculate the probability of an event. For example, classify if tissue is benign or malignant.\n",
        "\n",
        "Q7.name and breifly describe three common evaluation metrics for regression models\n",
        " - Mean Absolute Error (MAE): To measure the average error in price predictions.\n",
        " - Root Mean Squared Error (RMSE): To emphasize larger errors, which are critical in financial applications.\n",
        " - R-squared (R²): To assess how well the model captures the variability in stock prices\n",
        "\n",
        "Q8. What is the purpose of the R squared metric in regression analysis\n",
        " - R-Squared (R² or the coefficient of determination) is a statistical measure in a regression model that determines the proportion of variance in the dependent variable that can be explained by the independent variable.\n",
        " - In other words, r-squared shows how well the data fit the regression model (the goodness of fit)\n",
        "\n",
        "\n",
        "\n",
        "Q10. How do you interpret the coefficient in a simple Linear regression model?\n",
        " -In a simple linear regression model, the coefficients represent the change in the dependent variable for a one-unit change in the independent variable. The slope coefficient indicates the magnitude and direction of this change: a positive coefficient means as the independent variable increases, the dependent variable also increases, while a negative one means the dependent variable decreases. The y-intercept represents the predicted value of the dependent variable when the independent variable is zero, though this is not always meaningful in real-world contexts"
      ],
      "metadata": {
        "id": "QrgIRdGdPU1m"
      }
    },
    {
      "cell_type": "code",
      "source": [
        "''' write a python code to fit a simple Linear regression model using scilit learn and print the slope and intercept'''\n",
        "\n",
        "\n",
        "import numpy as np\n",
        "from sklearn.linear_model import LinearRegression\n",
        "\n",
        "\n",
        "X = np.array([[1], [2], [3], [4], [5]])  # 2D array for sklearn\n",
        "y = np.array([2, 4, 5, 4, 5])           # 1D array\n",
        "\n",
        "\n",
        "model = LinearRegression()\n",
        "model.fit(X, y)\n",
        "\n",
        "\n",
        "print(\"Slope (Coefficient):\", model.coef_[0])\n",
        "print(\"Intercept:\", model.intercept_)"
      ],
      "metadata": {
        "id": "ByTdOjlrZK7A",
        "outputId": "5f5f08b2-a67f-4371-971d-63b2a380cc1a",
        "colab": {
          "base_uri": "https://localhost:8080/"
        }
      },
      "execution_count": 1,
      "outputs": [
        {
          "output_type": "stream",
          "name": "stdout",
          "text": [
            "Slope (Coefficient): 0.6\n",
            "Intercept: 2.2\n"
          ]
        }
      ]
    },
    {
      "cell_type": "code",
      "source": [],
      "metadata": {
        "id": "5ZKvob06YSaB"
      },
      "execution_count": null,
      "outputs": []
    }
  ]
}